{
 "cells": [
  {
   "cell_type": "markdown",
   "metadata": {},
   "source": [
    "# Creating array from list\n",
    "- If we directly give the name of the variable it shows its type as well (Only in Jupyter Notebook.)"
   ]
  },
  {
   "cell_type": "code",
   "execution_count": 6,
   "metadata": {},
   "outputs": [
    {
     "name": "stdout",
     "output_type": "stream",
     "text": [
      "<class 'numpy.ndarray'>\n",
      "[1 2 3 4 5]\n"
     ]
    },
    {
     "data": {
      "text/plain": [
       "array([1, 2, 3, 4, 5])"
      ]
     },
     "execution_count": 6,
     "metadata": {},
     "output_type": "execute_result"
    }
   ],
   "source": [
    "import numpy as np \n",
    "list1=[1,2,3,4,5]\n",
    "a=np.array(list1)\n",
    "print(type(a))\n",
    "print(a)\n",
    "a"
   ]
  },
  {
   "cell_type": "markdown",
   "metadata": {},
   "source": [
    "# Creating array from tuple"
   ]
  },
  {
   "cell_type": "code",
   "execution_count": 7,
   "metadata": {},
   "outputs": [
    {
     "name": "stdout",
     "output_type": "stream",
     "text": [
      "<class 'numpy.ndarray'>\n",
      "[1 2 3 4 5]\n"
     ]
    },
    {
     "data": {
      "text/plain": [
       "array([1, 2, 3, 4, 5])"
      ]
     },
     "execution_count": 7,
     "metadata": {},
     "output_type": "execute_result"
    }
   ],
   "source": [
    "tuple1=(1,2,3,4,5,)\n",
    "b=np.array(tuple1)\n",
    "print(type(b))\n",
    "print(b)\n",
    "b"
   ]
  },
  {
   "cell_type": "markdown",
   "metadata": {},
   "source": [
    "# Making the array by taking input from the user."
   ]
  },
  {
   "cell_type": "code",
   "execution_count": 8,
   "metadata": {},
   "outputs": [
    {
     "name": "stdout",
     "output_type": "stream",
     "text": [
      "[3 4 4 5 6]\n"
     ]
    }
   ],
   "source": [
    "import numpy as np\n",
    "\n",
    "list1=[]\n",
    "for i in range (5):\n",
    "    var=int(input(\"Enter the number:\"))\n",
    "    list1.append(var)\n",
    "\n",
    "print(np.array(list1))"
   ]
  },
  {
   "cell_type": "markdown",
   "metadata": {},
   "source": [
    "# Creating multidimensional array and *ndim* and *ndmin* functions use.\n",
    "- For creating the multidimensional array, you just have to add teh equal amount of big bractes '[]' in the starting and ending.\n",
    "- But this approach  is good for small dimensions, for big arrays *ndmin* function is used.\n",
    "- To find the dimention, one can count the big bractes or just use the *ndim* function."
   ]
  },
  {
   "cell_type": "code",
   "execution_count": 16,
   "metadata": {},
   "outputs": [
    {
     "name": "stdout",
     "output_type": "stream",
     "text": [
      "[[[[ 1  2  3  4  5]\n",
      "   [ 6  7  8  9 10]]]]\n",
      "Dimension : 4\n"
     ]
    }
   ],
   "source": [
    "import numpy as np \n",
    "arr_4=np.array([[[[1,2,3,4,5],[6,7,8,9,10]]]])\n",
    "print(arr_4)\n",
    "print(\"Dimension :\",arr_4.ndim)\n"
   ]
  },
  {
   "cell_type": "code",
   "execution_count": 17,
   "metadata": {},
   "outputs": [
    {
     "name": "stdout",
     "output_type": "stream",
     "text": [
      "[[[[[[[[[[ 1  2  3  4  5]\n",
      "         [ 6  7  8  9 10]]]]]]]]]]\n",
      "Dimenion : 10\n"
     ]
    }
   ],
   "source": [
    "arr_10=np.array([[1,2,3,4,5],[6,7,8,9,10]],ndmin=10)\n",
    "print(arr_10)\n",
    "print(\"Dimenion :\",arr_10.ndim)"
   ]
  }
 ],
 "metadata": {
  "kernelspec": {
   "display_name": "Python 3",
   "language": "python",
   "name": "python3"
  },
  "language_info": {
   "codemirror_mode": {
    "name": "ipython",
    "version": 3
   },
   "file_extension": ".py",
   "mimetype": "text/x-python",
   "name": "python",
   "nbconvert_exporter": "python",
   "pygments_lexer": "ipython3",
   "version": "3.11.4"
  }
 },
 "nbformat": 4,
 "nbformat_minor": 2
}
