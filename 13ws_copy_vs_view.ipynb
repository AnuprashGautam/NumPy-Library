{
 "cells": [
  {
   "cell_type": "markdown",
   "metadata": {},
   "source": [
    "# copy() vs view()"
   ]
  },
  {
   "cell_type": "markdown",
   "metadata": {},
   "source": [
    "## copy()\n",
    "- It create the separate the copy of the array i.e. if we change the original array then it will not affect the copy array and vice versa."
   ]
  },
  {
   "cell_type": "code",
   "execution_count": 4,
   "metadata": {},
   "outputs": [
    {
     "name": "stdout",
     "output_type": "stream",
     "text": [
      "Original array: [ 1  2  3  4 50]\n",
      "Copied array: [1 2 3 4 5]\n"
     ]
    }
   ],
   "source": [
    "import numpy as np\n",
    "org=np.array([1,2,3,4,5])\n",
    "cpy=org.copy()\n",
    "\n",
    "org[4]=50\n",
    "\n",
    "print(\"Original array:\",org)\n",
    "print(\"Copied array:\",cpy)"
   ]
  },
  {
   "cell_type": "markdown",
   "metadata": {},
   "source": [
    "## view()\n",
    "- It doesn't create the separate the copy of the array i.e. if we change the original array then it will affect the copy array too and vice versa."
   ]
  },
  {
   "cell_type": "code",
   "execution_count": 5,
   "metadata": {},
   "outputs": [
    {
     "name": "stdout",
     "output_type": "stream",
     "text": [
      "Original array: [ 1  2  3  4 50]\n",
      "Copied array: [ 1  2  3  4 50]\n"
     ]
    }
   ],
   "source": [
    "import numpy as np\n",
    "org=np.array([1,2,3,4,5])\n",
    "cpy=org.view()\n",
    "\n",
    "org[4]=50\n",
    "\n",
    "print(\"Original array:\",org)\n",
    "print(\"Copied array:\",cpy)"
   ]
  }
 ],
 "metadata": {
  "kernelspec": {
   "display_name": "Python 3",
   "language": "python",
   "name": "python3"
  },
  "language_info": {
   "codemirror_mode": {
    "name": "ipython",
    "version": 3
   },
   "file_extension": ".py",
   "mimetype": "text/x-python",
   "name": "python",
   "nbconvert_exporter": "python",
   "pygments_lexer": "ipython3",
   "version": "3.11.4"
  }
 },
 "nbformat": 4,
 "nbformat_minor": 2
}
