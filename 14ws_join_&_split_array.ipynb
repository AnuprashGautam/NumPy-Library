{
 "cells": [
  {
   "cell_type": "markdown",
   "metadata": {},
   "source": [
    "# Join and split numpy arrays\n"
   ]
  },
  {
   "cell_type": "markdown",
   "metadata": {},
   "source": [
    "## Joining two 1 D arrays"
   ]
  },
  {
   "cell_type": "code",
   "execution_count": 5,
   "metadata": {},
   "outputs": [
    {
     "name": "stdout",
     "output_type": "stream",
     "text": [
      "New Array: [ 1  2  3  4  5  6  7  8  9 10]\n"
     ]
    }
   ],
   "source": [
    "import numpy as np\n",
    "var1=np.array([1,2,3,4,5])\n",
    "var2=np.array([6,7,8,9,10])\n",
    "\n",
    "var3=np.concatenate((var1,var2))\n",
    "\n",
    "print(\"New Array:\",var3)\n"
   ]
  },
  {
   "cell_type": "markdown",
   "metadata": {},
   "source": [
    "# Joining two 2 D arrays\n",
    "- With concatenate() function, axis value is also provided in the mukti m=dimension array.\n",
    "- axis=0 for column wise concatenation\n",
    "- axis=1 for row wise concatenation\n"
   ]
  },
  {
   "cell_type": "code",
   "execution_count": 5,
   "metadata": {},
   "outputs": [
    {
     "name": "stdout",
     "output_type": "stream",
     "text": [
      "[[1 2]\n",
      " [3 4]]\n",
      "\n",
      "[[5 6]\n",
      " [7 8]]\n",
      "\n",
      "Column wise concatination: [[1 2]\n",
      " [3 4]\n",
      " [5 6]\n",
      " [7 8]]\n",
      "\n",
      "Row wise concatination: [[1 2 5 6]\n",
      " [3 4 7 8]]\n"
     ]
    }
   ],
   "source": [
    "import numpy as np\n",
    "\n",
    "var1=np.array([[1,2],[3,4]])\n",
    "var2=np.array([[5,6],[7,8]])\n",
    "\n",
    "var3=np.concatenate((var1,var2), axis=0)\n",
    "\n",
    "print(var1)\n",
    "print()\n",
    "print(var2)\n",
    "print()\n",
    "\n",
    "print(\"Column wise concatination:\",var3)\n",
    "print()\n",
    "\n",
    "print(\"Row wise concatination:\",np.concatenate((var1,var2),axis=1))"
   ]
  },
  {
   "cell_type": "markdown",
   "metadata": {},
   "source": [
    "## Joining two 1 D arrays using stack() function"
   ]
  },
  {
   "cell_type": "code",
   "execution_count": 8,
   "metadata": {},
   "outputs": [
    {
     "name": "stdout",
     "output_type": "stream",
     "text": [
      "Column wise conactenation:\n",
      " [[1 2 3 4]\n",
      " [5 6 7 8]]\n",
      "\n",
      "Row wise concatenation:\n",
      " [[1 5]\n",
      " [2 6]\n",
      " [3 7]\n",
      " [4 8]]\n"
     ]
    }
   ],
   "source": [
    "import numpy as np\n",
    "\n",
    "var1=np.array([1,2,3,4])\n",
    "var2=np.array([5,6,7,8])\n",
    "\n",
    "print(\"Column wise conactenation:\\n\",np.stack((var1,var2),axis=0))\n",
    "print()\n",
    "print(\"Row wise concatenation:\\n\",np.stack((var1,var2),axis=1))"
   ]
  },
  {
   "cell_type": "markdown",
   "metadata": {},
   "source": [
    "## Joining two 2 D arrays using stack() function"
   ]
  },
  {
   "cell_type": "code",
   "execution_count": 12,
   "metadata": {},
   "outputs": [
    {
     "name": "stdout",
     "output_type": "stream",
     "text": [
      "Column wise conactenation:\n",
      " [[[1 2]\n",
      "  [3 4]]\n",
      "\n",
      " [[5 6]\n",
      "  [7 8]]]\n",
      "\n",
      "Row wise concatenation:\n",
      " [[[1 2]\n",
      "  [5 6]]\n",
      "\n",
      " [[3 4]\n",
      "  [7 8]]]\n"
     ]
    }
   ],
   "source": [
    "import numpy as np\n",
    "\n",
    "var1=np.array([[1,2],[3,4]])\n",
    "var2=np.array([[5,6],[7,8]])\n",
    "\n",
    "print(\"Column wise conactenation:\\n\",np.stack((var1,var2),axis=0))\n",
    "print()\n",
    "print(\"Row wise concatenation:\\n\",np.stack((var1,var2),axis=1))"
   ]
  },
  {
   "cell_type": "markdown",
   "metadata": {},
   "source": [
    "- We can use vstack to concatente arrays along column wise and hstack along row wise.\n",
    "- dstack is used to concatenate height wise."
   ]
  },
  {
   "cell_type": "code",
   "execution_count": 16,
   "metadata": {},
   "outputs": [
    {
     "name": "stdout",
     "output_type": "stream",
     "text": [
      "Column wise conactenation:\n",
      " [[1 2]\n",
      " [3 4]\n",
      " [5 6]\n",
      " [7 8]]\n",
      "\n",
      "Row wise concatenation:\n",
      " [[1 2 5 6]\n",
      " [3 4 7 8]]\n",
      "\n",
      "Height wise concatenation:\n",
      " [[[1 5]\n",
      "  [2 6]]\n",
      "\n",
      " [[3 7]\n",
      "  [4 8]]]\n"
     ]
    }
   ],
   "source": [
    "import numpy as np\n",
    "\n",
    "var1=np.array([[1,2],\n",
    "               [3,4]])\n",
    "var2=np.array([[5,6],\n",
    "               [7,8]])\n",
    "\n",
    "print(\"Column wise conactenation:\\n\",np.vstack((var1,var2)))\n",
    "print()\n",
    "print(\"Row wise concatenation:\\n\",np.hstack((var1,var2)))\n",
    "print()\n",
    "print(\"Height wise concatenation:\\n\",np.dstack((var1,var2)))"
   ]
  },
  {
   "cell_type": "markdown",
   "metadata": {},
   "source": [
    "🔔Note: stac() and concatenate() serves differently.\n",
    "np.stack introduces a new axis, while np.concatenate operates along an existing axis without adding a new one. The choice between them depends on whether you want to introduce a new axis or concatenate along an existing one.\n"
   ]
  },
  {
   "cell_type": "markdown",
   "metadata": {},
   "source": [
    "## Spliting 1 D array"
   ]
  },
  {
   "cell_type": "code",
   "execution_count": 18,
   "metadata": {},
   "outputs": [
    {
     "name": "stdout",
     "output_type": "stream",
     "text": [
      "[1 2 3 4 5 6]\n",
      "<class 'numpy.ndarray'>\n",
      "[array([1, 2]), array([3, 4]), array([5]), array([6])]\n",
      "<class 'list'>\n",
      "[1 2]\n"
     ]
    }
   ],
   "source": [
    "import numpy as np\n",
    "\n",
    "var1=np.array([1,2,3,4,5,6])\n",
    "\n",
    "var2=np.array_split(var1,4)\n",
    "\n",
    "print(var1)\n",
    "print(type(var1))\n",
    "print(var2)\n",
    "print(type(var2))\n",
    "print(var2[0])"
   ]
  },
  {
   "cell_type": "markdown",
   "metadata": {},
   "source": [
    "## Spliting 2 D array"
   ]
  },
  {
   "cell_type": "code",
   "execution_count": 22,
   "metadata": {},
   "outputs": [
    {
     "name": "stdout",
     "output_type": "stream",
     "text": [
      "[[1 2]\n",
      " [3 4]\n",
      " [5 6]]\n",
      "<class 'numpy.ndarray'>\n",
      "[array([[1, 2]]), array([[3, 4]]), array([[5, 6]])]\n",
      "<class 'list'>\n",
      "[[1 2]]\n"
     ]
    }
   ],
   "source": [
    "import numpy as np\n",
    "\n",
    "var1=np.array([[1,2],[3,4],[5,6]])\n",
    "\n",
    "var2=np.array_split(var1,3)\n",
    "\n",
    "print(var1)\n",
    "print(type(var1))\n",
    "print(var2)\n",
    "print(type(var2))\n",
    "print(var2[0])"
   ]
  }
 ],
 "metadata": {
  "kernelspec": {
   "display_name": "Python 3",
   "language": "python",
   "name": "python3"
  },
  "language_info": {
   "codemirror_mode": {
    "name": "ipython",
    "version": 3
   },
   "file_extension": ".py",
   "mimetype": "text/x-python",
   "name": "python",
   "nbconvert_exporter": "python",
   "pygments_lexer": "ipython3",
   "version": "3.11.4"
  }
 },
 "nbformat": 4,
 "nbformat_minor": 2
}
