{
 "cells": [
  {
   "cell_type": "markdown",
   "metadata": {},
   "source": [
    "# Applying Arithmetic Operations in Array."
   ]
  },
  {
   "cell_type": "code",
   "execution_count": 1,
   "metadata": {},
   "outputs": [
    {
     "name": "stdout",
     "output_type": "stream",
     "text": [
      "[4 5 6 7 8]\n"
     ]
    }
   ],
   "source": [
    "import numpy as np \n",
    "var1=np.array([1,2,3,4,5])\n",
    "\n",
    "varadd=var1+3\n",
    "\n",
    "print(varadd)"
   ]
  },
  {
   "cell_type": "code",
   "execution_count": 2,
   "metadata": {},
   "outputs": [
    {
     "name": "stdout",
     "output_type": "stream",
     "text": [
      "[-2 -1  0  1  2]\n"
     ]
    }
   ],
   "source": [
    "import numpy as np \n",
    "var1=np.array([1,2,3,4,5])\n",
    "\n",
    "varsub=var1-3\n",
    "\n",
    "print(varsub)"
   ]
  },
  {
   "cell_type": "markdown",
   "metadata": {},
   "source": [
    "- We can even perform the operations between two arrays too. But the size of the arrays should be same."
   ]
  },
  {
   "cell_type": "code",
   "execution_count": 5,
   "metadata": {},
   "outputs": [
    {
     "name": "stdout",
     "output_type": "stream",
     "text": [
      "[ 2  4  6  8 10]\n"
     ]
    }
   ],
   "source": [
    "import numpy as np \n",
    "var1=np.array([1,2,3,4,5])\n",
    "var2=np.array([1,2,3,4,5])\n",
    "\n",
    "varadd=var1+var2\n",
    "\n",
    "print(varadd)"
   ]
  },
  {
   "cell_type": "markdown",
   "metadata": {},
   "source": [
    "- We can also use the inbuilt Numpy functions for the arithmetic operations."
   ]
  },
  {
   "cell_type": "code",
   "execution_count": 7,
   "metadata": {},
   "outputs": [
    {
     "name": "stdout",
     "output_type": "stream",
     "text": [
      "[12 24 36 48 60] \n",
      "\n",
      "[ 2  4  6  8 10] \n",
      "\n",
      "[ 1  4  9 16 25]\n"
     ]
    }
   ],
   "source": [
    "import numpy as np\n",
    "var1=np.array([1,2,3,4,5])\n",
    "var2=np.array([11,22,33,44,55])\n",
    "var3=np.array([1,1,1,1,1])\n",
    "var4=2\n",
    "\n",
    "varadd=np.add(var1,var2)\n",
    "varmul=np.multiply(var1,var4)\n",
    "varpow=np.power(var1,var4)\n",
    "\n",
    "print(varadd,\"\\n\")\n",
    "print(varmul,\"\\n\")\n",
    "print(varpow)\n"
   ]
  },
  {
   "cell_type": "code",
   "execution_count": 8,
   "metadata": {},
   "outputs": [
    {
     "name": "stdout",
     "output_type": "stream",
     "text": [
      "[1 0 1 0 1]\n"
     ]
    }
   ],
   "source": [
    "import numpy as np \n",
    "var1=np.array([1,2,3,4,5])\n",
    "\n",
    "newvar=np.mod(var1,2)\n",
    "\n",
    "print(newvar)"
   ]
  },
  {
   "cell_type": "code",
   "execution_count": 14,
   "metadata": {},
   "outputs": [
    {
     "name": "stdout",
     "output_type": "stream",
     "text": [
      "[1 0 0 0 0]\n",
      "int32\n"
     ]
    }
   ],
   "source": [
    "import numpy as np \n",
    "var1=np.array([1,2,3,4,5])\n",
    "\n",
    "newvar=np.reciprocal(var1)\n",
    "\n",
    "print(newvar)\n",
    "print(newvar.dtype)"
   ]
  }
 ],
 "metadata": {
  "kernelspec": {
   "display_name": "Python 3",
   "language": "python",
   "name": "python3"
  },
  "language_info": {
   "codemirror_mode": {
    "name": "ipython",
    "version": 3
   },
   "file_extension": ".py",
   "mimetype": "text/x-python",
   "name": "python",
   "nbconvert_exporter": "python",
   "pygments_lexer": "ipython3",
   "version": "3.11.4"
  }
 },
 "nbformat": 4,
 "nbformat_minor": 2
}
