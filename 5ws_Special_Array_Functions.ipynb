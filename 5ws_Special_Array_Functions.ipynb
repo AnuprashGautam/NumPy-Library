{
 "cells": [
  {
   "cell_type": "markdown",
   "metadata": {},
   "source": [
    "# Special Array Functions"
   ]
  },
  {
   "cell_type": "markdown",
   "metadata": {},
   "source": [
    "### rand() Function\n",
    "- The function is used to generate a random value between 0 and 1."
   ]
  },
  {
   "cell_type": "code",
   "execution_count": 10,
   "metadata": {},
   "outputs": [
    {
     "name": "stdout",
     "output_type": "stream",
     "text": [
      "[0.93051748 0.01925052 0.91774705 0.64079795 0.51964645]\n",
      "\n",
      " [[0.7196131  0.31020483 0.45711057 0.49191188 0.56364278]\n",
      " [0.64235193 0.44701326 0.04492185 0.49959636 0.26945262]\n",
      " [0.46771895 0.84748365 0.10589977 0.11204198 0.171352  ]]\n"
     ]
    }
   ],
   "source": [
    "import numpy as np\n",
    "\n",
    "var1_rand=np.random.rand(5)\n",
    "var2_rand=np.random.rand(3,5)\n",
    "print(var1_rand)\n",
    "print(\"\\n\",var2_rand)"
   ]
  },
  {
   "cell_type": "markdown",
   "metadata": {},
   "source": [
    "### randn() Function\n",
    "- This function is used to generate the value close to zero. Returned values may be positive or negative."
   ]
  },
  {
   "cell_type": "code",
   "execution_count": 2,
   "metadata": {},
   "outputs": [
    {
     "name": "stdout",
     "output_type": "stream",
     "text": [
      "[ 0.43674363 -1.30374587  0.28029766  1.38237322  0.2074817 ]\n",
      "\n",
      "[[-1.72185675 -0.711506    1.40199256  0.83483644]\n",
      " [ 0.66039249  0.96473567 -0.98134529 -0.46383977]\n",
      " [-0.28258919  1.13740258  0.36748318 -0.55664747]]\n"
     ]
    }
   ],
   "source": [
    "var1_randn=np.random.randn(5)\n",
    "var2_randn=np.random.randn(3,4)\n",
    "print(var1_randn)\n",
    "print()\n",
    "print(var2_randn)"
   ]
  },
  {
   "cell_type": "markdown",
   "metadata": {},
   "source": [
    "### ranf() Function\n",
    "- The function for doing random sampling in numpy. It returns an array of specified shape and fills it with random floats in the half open interval [0.0, 1.0).\n"
   ]
  },
  {
   "cell_type": "code",
   "execution_count": 4,
   "metadata": {},
   "outputs": [
    {
     "name": "stdout",
     "output_type": "stream",
     "text": [
      "[0.70612755 0.16891973 0.82731835 0.66259093 0.60973737]\n",
      "\n",
      "[[0.33830018 0.9006282  0.56078774 0.31500673]\n",
      " [0.84143869 0.7322875  0.10204397 0.17613841]\n",
      " [0.98854033 0.58697404 0.54287243 0.77442555]]\n"
     ]
    }
   ],
   "source": [
    "var1_ranf=np.random.ranf(5)\n",
    "var2_ranf=np.random.ranf((3,4))\n",
    "print(var1_ranf)\n",
    "print()\n",
    "print(var2_ranf)"
   ]
  },
  {
   "cell_type": "markdown",
   "metadata": {},
   "source": [
    "### randint() Function\n",
    "- The function is used to generate a random number array between a given range."
   ]
  },
  {
   "cell_type": "code",
   "execution_count": 13,
   "metadata": {},
   "outputs": [
    {
     "name": "stdout",
     "output_type": "stream",
     "text": [
      "[1 1 4 3 2 3 3 2 3 3 4 4]\n",
      "\n",
      "[[1 1 4 3]\n",
      " [2 3 3 2]\n",
      " [3 3 4 4]]\n"
     ]
    }
   ],
   "source": [
    "import numpy as np\n",
    "var1_randint=np.random.randint(1,5,12)\n",
    "var2_randint=var1_randint.reshape((3,4))\n",
    "print(var1_randint)\n",
    "print()\n",
    "print(var2_randint)"
   ]
  }
 ],
 "metadata": {
  "kernelspec": {
   "display_name": "Python 3",
   "language": "python",
   "name": "python3"
  },
  "language_info": {
   "codemirror_mode": {
    "name": "ipython",
    "version": 3
   },
   "file_extension": ".py",
   "mimetype": "text/x-python",
   "name": "python",
   "nbconvert_exporter": "python",
   "pygments_lexer": "ipython3",
   "version": "3.11.4"
  }
 },
 "nbformat": 4,
 "nbformat_minor": 2
}
