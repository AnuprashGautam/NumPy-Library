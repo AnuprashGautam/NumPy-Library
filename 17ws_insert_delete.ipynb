{
 "cells": [
  {
   "cell_type": "markdown",
   "metadata": {},
   "source": [
    "# Insertion"
   ]
  },
  {
   "cell_type": "markdown",
   "metadata": {},
   "source": [
    "## insert() function\n",
    "- This function take 3 parameters: \n",
    "1. The array's name in which you want to insert the elements.\n",
    "2. The position at which you want to insert the elements.\n",
    "3. The value you want to insert."
   ]
  },
  {
   "cell_type": "code",
   "execution_count": 2,
   "metadata": {},
   "outputs": [
    {
     "name": "stdout",
     "output_type": "stream",
     "text": [
      "[1 2 3 4 5 6]\n"
     ]
    }
   ],
   "source": [
    "import numpy as np\n",
    "\n",
    "var1=np.array([1,2,4,5,6])\n",
    "\n",
    "var2=np.insert(var1,2,3)\n",
    "\n",
    "print(var2)"
   ]
  },
  {
   "cell_type": "markdown",
   "metadata": {},
   "source": [
    "- We can add multiple elements at once."
   ]
  },
  {
   "cell_type": "code",
   "execution_count": 3,
   "metadata": {},
   "outputs": [
    {
     "name": "stdout",
     "output_type": "stream",
     "text": [
      "[1 2 3 4 5 6 7 8 9]\n"
     ]
    }
   ],
   "source": [
    "import numpy as np\n",
    "\n",
    "var1=np.array([1,2,4,5,7,9])\n",
    "\n",
    "var2=np.insert(var1,(2,4,5),(3,6,8))\n",
    "\n",
    "print(var2)"
   ]
  },
  {
   "cell_type": "markdown",
   "metadata": {},
   "source": [
    "### Notice🔔\n",
    "If we want to insert the float value, then it will first convert the float value into int and then insert it."
   ]
  },
  {
   "cell_type": "code",
   "execution_count": 4,
   "metadata": {},
   "outputs": [
    {
     "name": "stdout",
     "output_type": "stream",
     "text": [
      "[1 2 3 4 5 6 7]\n"
     ]
    }
   ],
   "source": [
    "import numpy as np\n",
    "\n",
    "var1=np.array([1,2,4,5,6,7])\n",
    "\n",
    "var2=np.insert(var1,2,3.5)\n",
    "\n",
    "print(var2)"
   ]
  },
  {
   "cell_type": "markdown",
   "metadata": {},
   "source": [
    "## Inserting elements in 2 D array"
   ]
  },
  {
   "cell_type": "markdown",
   "metadata": {},
   "source": [
    "- We can either insert the elements in row or column:\n",
    "1. axis=0, for column wise insertion\n",
    "2. axis=1, for row wise insertion\n",
    "\n",
    "- If we provide only 1 element, then that same element will be converted into row or column and then inserted into the array."
   ]
  },
  {
   "cell_type": "code",
   "execution_count": 6,
   "metadata": {},
   "outputs": [
    {
     "name": "stdout",
     "output_type": "stream",
     "text": [
      "[[ 1  2  3  4]\n",
      " [ 2  2  2  2]\n",
      " [ 5  6  7  8]\n",
      " [ 9 10 11 12]]\n",
      "\n",
      "[[ 1  2  3  4  5]\n",
      " [ 5  6  7  8  5]\n",
      " [ 9 10 11 12  5]]\n"
     ]
    }
   ],
   "source": [
    "# Inserting single element 1 D array in 2 D matrix\n",
    "\n",
    "import numpy as np\n",
    "\n",
    "var1=np.array([[1,2,3,4],[5,6,7,8],[9,10,11,12]])        \n",
    "\n",
    "\n",
    "var2=np.insert(var1,1,2, axis=0)                          # columwise insertion\n",
    "var3=np.insert(var1,4,5, axis=1)                          # rowise insertion\n",
    "print(var2)\n",
    "print()\n",
    "print(var3)"
   ]
  },
  {
   "cell_type": "code",
   "execution_count": 7,
   "metadata": {},
   "outputs": [
    {
     "name": "stdout",
     "output_type": "stream",
     "text": [
      "[[ 1  2  3  4]\n",
      " [10 20 30 40]\n",
      " [ 5  6  7  8]\n",
      " [ 9 10 11 12]]\n",
      "\n",
      "[[  1   2   3   4 100]\n",
      " [  5   6   7   8 200]\n",
      " [  9  10  11  12 300]]\n"
     ]
    }
   ],
   "source": [
    "# Inserting multi element 1 D array in 2 D matrix\n",
    "\n",
    "import numpy as np\n",
    "\n",
    "var1=np.array([[1,2,3,4],[5,6,7,8],[9,10,11,12]])        \n",
    "\n",
    "\n",
    "var2=np.insert(var1,1,[10,20,30,40], axis=0)                          # columwise insertion\n",
    "var3=np.insert(var1,4,[100,200,300], axis=1)                          # rowise insertion\n",
    "print(var2)\n",
    "print()\n",
    "print(var3)"
   ]
  },
  {
   "cell_type": "markdown",
   "metadata": {},
   "source": [
    "## append() function\n",
    "- This function is used to add the element at the end of the array i.e. it doesn't need the position parameter.\n",
    "- Through this function we can directly add the float value."
   ]
  },
  {
   "cell_type": "code",
   "execution_count": 8,
   "metadata": {},
   "outputs": [
    {
     "name": "stdout",
     "output_type": "stream",
     "text": [
      "[1.  2.  3.  4.  5.5]\n"
     ]
    }
   ],
   "source": [
    "# Adding element to 1 D array\n",
    "\n",
    "import numpy as np\n",
    "\n",
    "var1=np.array([1,2,3,4])\n",
    "\n",
    "var2=np.append(var1,5.5)\n",
    "\n",
    "print(var2)"
   ]
  },
  {
   "cell_type": "code",
   "execution_count": 14,
   "metadata": {},
   "outputs": [
    {
     "name": "stdout",
     "output_type": "stream",
     "text": [
      "[[ 1  2  3  4]\n",
      " [ 5  6  7  8]\n",
      " [ 9 10 11 12]\n",
      " [ 3  3  3  3]]\n",
      "\n",
      "[[ 1  2  3  4  5]\n",
      " [ 5  6  7  8  5]\n",
      " [ 9 10 11 12  5]]\n"
     ]
    }
   ],
   "source": [
    "import numpy as np\n",
    "\n",
    "var1 = np.array([[1, 2, 3, 4], [5, 6, 7, 8], [9, 10, 11, 12]])\n",
    "\n",
    "# Column-wise insertion\n",
    "var2 = np.append(var1, [[3, 3, 3, 3]], axis=0)  # Note the extra square brackets around [3, 3, 3, 3]\n",
    "\n",
    "# Row-wise insertion\n",
    "var3 = np.append(var1, [[5], [5], [5]], axis=1)  # Note the extra square brackets around each row [5], [5], [5]\n",
    "\n",
    "print(var2)\n",
    "print()\n",
    "print(var3)\n"
   ]
  },
  {
   "cell_type": "markdown",
   "metadata": {},
   "source": [
    "# Deletion\n"
   ]
  },
  {
   "cell_type": "markdown",
   "metadata": {},
   "source": [
    "## delete() function\n",
    "- Can be applied for the 1 D as well as multi dimensional array.\n",
    "- Two parameters are passed:\n",
    "1. First one is the array name\n",
    "2. Second one is the index of that element"
   ]
  },
  {
   "cell_type": "code",
   "execution_count": 17,
   "metadata": {},
   "outputs": [
    {
     "name": "stdout",
     "output_type": "stream",
     "text": [
      "[1 2 3 5 6 7]\n"
     ]
    }
   ],
   "source": [
    "# Deleting 1 D array element\n",
    "import numpy as np\n",
    "\n",
    "var1=np.array([1,2,3,4,5,6,7])\n",
    "\n",
    "var2=np.delete(var1,3)\n",
    "\n",
    "print(var2)"
   ]
  },
  {
   "cell_type": "code",
   "execution_count": 21,
   "metadata": {},
   "outputs": [
    {
     "name": "stdout",
     "output_type": "stream",
     "text": [
      "[[1 2 3]\n",
      " [4 5 6]]\n",
      "\n",
      "[[1 3]\n",
      " [4 6]\n",
      " [7 9]]\n"
     ]
    }
   ],
   "source": [
    "# Deleting row and column of 2 D array\n",
    "import numpy as np\n",
    "\n",
    "var1=np.array([[1,2,3],[4,5,6],[7,8,9]])\n",
    "\n",
    "var2=np.delete(var1,2,axis=0)                   # Deleting row\n",
    "var3=np.delete(var1,1,axis=1)                   # Deleting column\n",
    "\n",
    "print(var2)\n",
    "print()\n",
    "print(var3)"
   ]
  }
 ],
 "metadata": {
  "kernelspec": {
   "display_name": "Python 3",
   "language": "python",
   "name": "python3"
  },
  "language_info": {
   "codemirror_mode": {
    "name": "ipython",
    "version": 3
   },
   "file_extension": ".py",
   "mimetype": "text/x-python",
   "name": "python",
   "nbconvert_exporter": "python",
   "pygments_lexer": "ipython3",
   "version": "3.11.4"
  }
 },
 "nbformat": 4,
 "nbformat_minor": 2
}
