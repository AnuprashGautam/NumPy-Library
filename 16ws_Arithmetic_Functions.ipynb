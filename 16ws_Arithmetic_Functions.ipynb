{
 "cells": [
  {
   "cell_type": "markdown",
   "metadata": {},
   "source": [
    "# Arithmetic Functions\n"
   ]
  },
  {
   "cell_type": "markdown",
   "metadata": {},
   "source": [
    "## shuffle()\n",
    "- It is used to shuffle the array elements."
   ]
  },
  {
   "cell_type": "code",
   "execution_count": 1,
   "metadata": {},
   "outputs": [
    {
     "name": "stdout",
     "output_type": "stream",
     "text": [
      "[3 1 2 5 4]\n"
     ]
    }
   ],
   "source": [
    "import numpy as np\n",
    "\n",
    "var1=np.array([1,2,3,4,5])\n",
    "np.random.shuffle(var1)\n",
    "\n",
    "print(var1)"
   ]
  },
  {
   "cell_type": "markdown",
   "metadata": {},
   "source": [
    "## unique()\n",
    "- This function make an array of elements, taking only one time each, of the array.\n",
    "- Apart from that we can also get the index locations of the elements and we can also count them."
   ]
  },
  {
   "cell_type": "code",
   "execution_count": 3,
   "metadata": {},
   "outputs": [
    {
     "name": "stdout",
     "output_type": "stream",
     "text": [
      "(array([1, 2, 3, 4, 6, 7, 8]), array([0, 1, 2, 5, 6, 7, 8], dtype=int64), array([1, 2, 2, 1, 1, 1, 1], dtype=int64))\n"
     ]
    }
   ],
   "source": [
    "import numpy as np\n",
    "\n",
    "var1=np.array([1,2,3,2,3,4,6,7,8])\n",
    "\n",
    "var2=np.unique(var1,return_index=True,return_counts=True)\n",
    "\n",
    "print(var2)"
   ]
  },
  {
   "cell_type": "markdown",
   "metadata": {},
   "source": [
    "## resize()\n",
    "- As its name suggest, it resize the 1 D array. "
   ]
  },
  {
   "cell_type": "code",
   "execution_count": 4,
   "metadata": {},
   "outputs": [
    {
     "name": "stdout",
     "output_type": "stream",
     "text": [
      "[[1 2 3 4]\n",
      " [5 6 7 8]]\n"
     ]
    }
   ],
   "source": [
    "import numpy as np\n",
    "\n",
    "var1=np.array([1,2,3,4,5,6,7,8])\n",
    "\n",
    "var2=np.resize(var1,(2,4))\n",
    "\n",
    "print(var2)"
   ]
  },
  {
   "cell_type": "markdown",
   "metadata": {},
   "source": [
    "## flatten() and ravel()\n",
    "- These function is used to convert multi dimensional array into 1 dimension. There are many orders: C (default), F, A, K\n",
    "- By default order is C\n"
   ]
  },
  {
   "cell_type": "code",
   "execution_count": 11,
   "metadata": {},
   "outputs": [
    {
     "name": "stdout",
     "output_type": "stream",
     "text": [
      "[[1 2 3 4]\n",
      " [5 6 7 8]]\n",
      "\n",
      "[1 2 3 4 5 6 7 8]\n",
      "\n",
      "[1 5 2 6 3 7 4 8]\n"
     ]
    }
   ],
   "source": [
    "import numpy as np\n",
    "\n",
    "var1=np.array([[1,2,3,4],[5,6,7,8]])\n",
    "\n",
    "var2=var1.flatten()\n",
    "var3=var1.flatten(order=\"F\")\n",
    "\n",
    "print(var1)\n",
    "print()\n",
    "print(var2)\n",
    "print()\n",
    "print(var3)"
   ]
  },
  {
   "cell_type": "code",
   "execution_count": 12,
   "metadata": {},
   "outputs": [
    {
     "name": "stdout",
     "output_type": "stream",
     "text": [
      "[[1 2 3 4]\n",
      " [5 6 7 8]]\n",
      "\n",
      "[1 2 3 4 5 6 7 8]\n",
      "\n",
      "[1 5 2 6 3 7 4 8]\n"
     ]
    }
   ],
   "source": [
    "import numpy as np\n",
    "\n",
    "var1=np.array([[1,2,3,4],[5,6,7,8]])\n",
    "\n",
    "var2=var1.ravel()\n",
    "var3=var1.ravel(order=\"F\")\n",
    "\n",
    "print(var1)\n",
    "print()\n",
    "print(var2)\n",
    "print()\n",
    "print(var3)"
   ]
  },
  {
   "cell_type": "markdown",
   "metadata": {},
   "source": [
    "### Notice🔔\n",
    "Both the functions,flatten and ravel looks same but they are different as like copy and view. flatten function create a separate copy of the array, while ravel just create an another tag for the same array."
   ]
  },
  {
   "cell_type": "code",
   "execution_count": 15,
   "metadata": {},
   "outputs": [
    {
     "name": "stdout",
     "output_type": "stream",
     "text": [
      "Original: [[1 2 3 4]\n",
      " [5 6 7 8]]\n",
      "\n",
      "New: [ 1 22  3  4  5  6  7  8]\n"
     ]
    }
   ],
   "source": [
    "import numpy as np\n",
    "\n",
    "var1=np.array([[1,2,3,4],[5,6,7,8]])\n",
    "\n",
    "var2=var1.flatten()\n",
    "var2[1]=22\n",
    "\n",
    "print(\"Original:\",var1)\n",
    "print()\n",
    "print(\"New:\",var2)"
   ]
  },
  {
   "cell_type": "code",
   "execution_count": 14,
   "metadata": {},
   "outputs": [
    {
     "name": "stdout",
     "output_type": "stream",
     "text": [
      "Original: [[ 1 22  3  4]\n",
      " [ 5  6  7  8]]\n",
      "\n",
      "New: [ 1 22  3  4  5  6  7  8]\n"
     ]
    }
   ],
   "source": [
    "import numpy as np\n",
    "\n",
    "var1=np.array([[1,2,3,4],[5,6,7,8]])\n",
    "\n",
    "var2=var1.ravel()\n",
    "var2[1]=22\n",
    "\n",
    "print(\"Original:\",var1)\n",
    "print()\n",
    "print(\"New:\",var2)\n"
   ]
  }
 ],
 "metadata": {
  "kernelspec": {
   "display_name": "Python 3",
   "language": "python",
   "name": "python3"
  },
  "language_info": {
   "codemirror_mode": {
    "name": "ipython",
    "version": 3
   },
   "file_extension": ".py",
   "mimetype": "text/x-python",
   "name": "python",
   "nbconvert_exporter": "python",
   "pygments_lexer": "ipython3",
   "version": "3.11.4"
  }
 },
 "nbformat": 4,
 "nbformat_minor": 2
}
