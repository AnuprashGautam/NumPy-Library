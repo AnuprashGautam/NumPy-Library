{
 "cells": [
  {
   "cell_type": "markdown",
   "metadata": {},
   "source": [
    "# Datatypes in Numpy\n"
   ]
  },
  {
   "cell_type": "markdown",
   "metadata": {},
   "source": [
    "### Finding the datatype of the variable."
   ]
  },
  {
   "cell_type": "code",
   "execution_count": 2,
   "metadata": {},
   "outputs": [
    {
     "name": "stdout",
     "output_type": "stream",
     "text": [
      "Datatype: int32\n"
     ]
    }
   ],
   "source": [
    "import numpy as np \n",
    "var=np.array([1,2,3,4,5,12,1,3,13,14])\n",
    "print(\"Datatype:\",var.dtype)"
   ]
  },
  {
   "cell_type": "code",
   "execution_count": 3,
   "metadata": {},
   "outputs": [
    {
     "name": "stdout",
     "output_type": "stream",
     "text": [
      "Datatype: float64\n"
     ]
    }
   ],
   "source": [
    "import numpy as np \n",
    "var=np.array([1.0,2,3,4,5,12,0.1,1,3,13,14])\n",
    "print(\"Datatype:\",var.dtype)"
   ]
  },
  {
   "cell_type": "code",
   "execution_count": 7,
   "metadata": {},
   "outputs": [
    {
     "name": "stdout",
     "output_type": "stream",
     "text": [
      "Datatype: <U3\n"
     ]
    }
   ],
   "source": [
    "import numpy as np \n",
    "var=np.array([\"A45\",\"B\",\"C\"])\n",
    "print(\"Datatype:\",var.dtype)"
   ]
  },
  {
   "cell_type": "markdown",
   "metadata": {},
   "source": [
    "### Changing the datatype of the variable.\n",
    "- We can even changing int to float."
   ]
  },
  {
   "cell_type": "code",
   "execution_count": 15,
   "metadata": {},
   "outputs": [
    {
     "name": "stdout",
     "output_type": "stream",
     "text": [
      "Datatpe : float16\n"
     ]
    }
   ],
   "source": [
    "import numpy as np \n",
    "var=np.array([1,2,3,4,5], dtype=np.int8)\n",
    "print(\"Datatpe :\",var.dtype)"
   ]
  },
  {
   "cell_type": "code",
   "execution_count": 20,
   "metadata": {},
   "outputs": [
    {
     "name": "stdout",
     "output_type": "stream",
     "text": [
      "[1. 2. 3. 4. 5.]\n",
      "Datatpe : float16\n"
     ]
    }
   ],
   "source": [
    "import numpy as np \n",
    "var=np.array([1,2,3,4,5], dtype=np.float16)\n",
    "print(var)\n",
    "print(\"Datatpe :\",var.dtype)"
   ]
  },
  {
   "cell_type": "code",
   "execution_count": 21,
   "metadata": {},
   "outputs": [
    {
     "name": "stdout",
     "output_type": "stream",
     "text": [
      "[1. 2. 3. 4. 5.]\n",
      "Datatype: float32\n"
     ]
    }
   ],
   "source": [
    "#Changing datatype fastly using characters.\n",
    "\n",
    "import numpy as np\n",
    "var=np.array([1,2,3,4,5], dtype=\"f\")\n",
    "print(var)\n",
    "print(\"Datatype:\",var.dtype)"
   ]
  },
  {
   "cell_type": "markdown",
   "metadata": {},
   "source": [
    "### We can also change the datatype by using Numpy datatypes as a function.\n"
   ]
  },
  {
   "cell_type": "code",
   "execution_count": 28,
   "metadata": {},
   "outputs": [
    {
     "name": "stdout",
     "output_type": "stream",
     "text": [
      "Datatype: int32\n",
      "Datatype: float16\n",
      "Datatype: int64\n",
      "Datatype: int32\n"
     ]
    }
   ],
   "source": [
    "import numpy as np\n",
    "var1=np.array([1,2,3,4])                    \n",
    "print(\"Datatype:\",var1.dtype)                     #Intger 32 datatype\n",
    "\n",
    "change1=np.float16(var1)\n",
    "\n",
    "print(\"Datatype:\",change1.dtype)                  #Float datatype\n",
    "\n",
    "change2=np.int64(change1)\n",
    "\n",
    "print(\"Datatype:\", change2.dtype)                 #Intger 64 datatype\n",
    "\n",
    "change3=np.int_(change2)\n",
    "print(\"Datatype:\",change3.dtype)                  #Intger 32 datatype"
   ]
  },
  {
   "cell_type": "markdown",
   "metadata": {},
   "source": [
    "### Datatype changing using the astype function."
   ]
  },
  {
   "cell_type": "code",
   "execution_count": 35,
   "metadata": {},
   "outputs": [
    {
     "name": "stdout",
     "output_type": "stream",
     "text": [
      "Datatype: int32\n",
      "Datatype: float64\n"
     ]
    }
   ],
   "source": [
    "import numpy as np\n",
    "\n",
    "var1=np.array([1,2,3,4])\n",
    "var2=var1.astype(float)\n",
    "print(\"Datatype:\",var1.dtype)\n",
    "print(\"Datatype:\",var2.dtype)"
   ]
  }
 ],
 "metadata": {
  "kernelspec": {
   "display_name": "Python 3",
   "language": "python",
   "name": "python3"
  },
  "language_info": {
   "codemirror_mode": {
    "name": "ipython",
    "version": 3
   },
   "file_extension": ".py",
   "mimetype": "text/x-python",
   "name": "python",
   "nbconvert_exporter": "python",
   "pygments_lexer": "ipython3",
   "version": "3.11.4"
  }
 },
 "nbformat": 4,
 "nbformat_minor": 2
}
