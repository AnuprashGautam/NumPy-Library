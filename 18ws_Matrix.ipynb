{
 "cells": [
  {
   "cell_type": "markdown",
   "metadata": {},
   "source": [
    "# Matrix in NumPy\n",
    "- Matrix and 2 D array both looks similar in Numpy. But they are different."
   ]
  },
  {
   "cell_type": "markdown",
   "metadata": {},
   "source": [
    "## Creating Matrix\n"
   ]
  },
  {
   "cell_type": "code",
   "execution_count": 1,
   "metadata": {},
   "outputs": [
    {
     "name": "stdout",
     "output_type": "stream",
     "text": [
      "<class 'numpy.matrix'>\n",
      "[[1 2 3]\n",
      " [4 5 6]]\n"
     ]
    }
   ],
   "source": [
    "import numpy as np \n",
    "\n",
    "var1=np.matrix([[1,2,3],[4,5,6]])\n",
    "\n",
    "print(type(var1))\n",
    "print(var1)"
   ]
  },
  {
   "cell_type": "code",
   "execution_count": 3,
   "metadata": {},
   "outputs": [
    {
     "name": "stdout",
     "output_type": "stream",
     "text": [
      "<class 'numpy.ndarray'>\n",
      "[[1 2 3]\n",
      " [4 5 6]]\n"
     ]
    }
   ],
   "source": [
    "import numpy as np \n",
    "\n",
    "var1=np.array([[1,2,3],[4,5,6]])\n",
    "\n",
    "print(type(var1))\n",
    "print(var1)"
   ]
  },
  {
   "cell_type": "markdown",
   "metadata": {},
   "source": [
    "## Arithmetic operations in Matrix"
   ]
  },
  {
   "cell_type": "markdown",
   "metadata": {},
   "source": [
    "### Addition"
   ]
  },
  {
   "cell_type": "code",
   "execution_count": 4,
   "metadata": {},
   "outputs": [
    {
     "name": "stdout",
     "output_type": "stream",
     "text": [
      "[[3 4 5]\n",
      " [6 7 8]]\n"
     ]
    }
   ],
   "source": [
    "import numpy as np\n",
    "\n",
    "var1=np.array([[1,2,3],[4,5,6]])\n",
    "\n",
    "var1=var1+2\n",
    "\n",
    "print(var1)"
   ]
  },
  {
   "cell_type": "code",
   "execution_count": 6,
   "metadata": {},
   "outputs": [
    {
     "name": "stdout",
     "output_type": "stream",
     "text": [
      "[[11 22 33]\n",
      " [44 55 66]]\n"
     ]
    }
   ],
   "source": [
    "import numpy as np\n",
    "\n",
    "var1=np.array([[1,2,3],[4,5,6]])\n",
    "var2=np.array([[10,20,30],[40,50,60]])\n",
    "\n",
    "var3=var1+var2\n",
    "\n",
    "print(var3)"
   ]
  },
  {
   "cell_type": "markdown",
   "metadata": {},
   "source": [
    "## Subtraction"
   ]
  },
  {
   "cell_type": "code",
   "execution_count": 7,
   "metadata": {},
   "outputs": [
    {
     "name": "stdout",
     "output_type": "stream",
     "text": [
      "[[11 22 33]\n",
      " [44 55 66]]\n"
     ]
    }
   ],
   "source": [
    "import numpy as np\n",
    "\n",
    "var1=np.array([[1,2,3],[4,5,6]])\n",
    "var2=np.array([[10,20,30],[40,50,60]])\n",
    "\n",
    "var3=var2+var1\n",
    "\n",
    "print(var3)"
   ]
  },
  {
   "cell_type": "markdown",
   "metadata": {},
   "source": [
    "## Multiplication\n",
    "- Here comes an important point, 2D array and matrix get multiplied differently.\n",
    "- In 2D array, corresponding elements get multiplied.\n",
    "- While in matrix, they are multiplied as like in Mathematics.\n",
    "- dot() function is used for matrix multiplication."
   ]
  },
  {
   "cell_type": "code",
   "execution_count": 8,
   "metadata": {},
   "outputs": [
    {
     "name": "stdout",
     "output_type": "stream",
     "text": [
      "[[ 10  40  90]\n",
      " [160 250 360]]\n"
     ]
    }
   ],
   "source": [
    "import numpy as np\n",
    "\n",
    "var1=np.array([[1,2,3],[4,5,6]])\n",
    "var2=np.array([[10,20,30],[40,50,60]])\n",
    "\n",
    "var3=var2*var1\n",
    "\n",
    "print(var3)"
   ]
  },
  {
   "cell_type": "code",
   "execution_count": 2,
   "metadata": {},
   "outputs": [
    {
     "name": "stdout",
     "output_type": "stream",
     "text": [
      "[[ 70 100]\n",
      " [150 220]]\n",
      "\n",
      "[[ 70 100]\n",
      " [150 220]]\n"
     ]
    }
   ],
   "source": [
    "import numpy as np\n",
    "\n",
    "var1=np.matrix([[1,2],[3,4]])\n",
    "var2=np.matrix([[10,20],[30,40]])\n",
    "\n",
    "var3=var1*var2\n",
    "\n",
    "print(var3)\n",
    "print()\n",
    "print(var2.dot(var1))"
   ]
  },
  {
   "cell_type": "markdown",
   "metadata": {},
   "source": [
    "# Functions in Matrix"
   ]
  },
  {
   "cell_type": "markdown",
   "metadata": {},
   "source": [
    "## Transpose()\n",
    "- It changes the axes of the matrix.\n",
    "- Either we can use the transpose() function or *matrix name*.T method to transpose the matrix."
   ]
  },
  {
   "cell_type": "code",
   "execution_count": 3,
   "metadata": {},
   "outputs": [
    {
     "name": "stdout",
     "output_type": "stream",
     "text": [
      "[[ 1  2  3  4]\n",
      " [ 5  6  7  8]\n",
      " [ 9 10 11 12]]\n",
      "\n",
      "[[ 1  5  9]\n",
      " [ 2  6 10]\n",
      " [ 3  7 11]\n",
      " [ 4  8 12]]\n",
      "\n",
      "[[ 1  5  9]\n",
      " [ 2  6 10]\n",
      " [ 3  7 11]\n",
      " [ 4  8 12]]\n"
     ]
    }
   ],
   "source": [
    "import numpy as np\n",
    "\n",
    "var1=np.matrix([[1,2,3,4],[5,6,7,8],[9,10,11,12]])\n",
    "\n",
    "print(var1)\n",
    "print()\n",
    "print(np.transpose(var1))\n",
    "print()\n",
    "print(var1.T)                                    #Another way to print the transpose of a matrix"
   ]
  },
  {
   "cell_type": "markdown",
   "metadata": {},
   "source": [
    "## Swapaxes()\n",
    "- It is also used to interchange the two axes.\n",
    "## Notice 🔔\n",
    "- swapaxes() specifically swaps two axes, whereas transpose() is more general and allows you to specify the new order of axes."
   ]
  },
  {
   "cell_type": "code",
   "execution_count": 15,
   "metadata": {},
   "outputs": [
    {
     "name": "stdout",
     "output_type": "stream",
     "text": [
      "Original array:\n",
      "[[1 2 3]\n",
      " [4 5 6]]\n",
      "\n",
      "Array after swapping axes:\n",
      "[[1 4]\n",
      " [2 5]\n",
      " [3 6]]\n"
     ]
    }
   ],
   "source": [
    "import numpy as np\n",
    "\n",
    "arr = np.array([[1, 2, 3],\n",
    "                [4, 5, 6]])\n",
    "\n",
    "arr_swapped = np.swapaxes(arr, 0,1)\n",
    "\n",
    "print(\"Original array:\")\n",
    "print(arr)\n",
    "print(\"\\nArray after swapping axes:\")\n",
    "print(arr_swapped)\n"
   ]
  },
  {
   "cell_type": "markdown",
   "metadata": {},
   "source": [
    "## Inverse\n",
    "- linalg.inv(*Matrix Name*) function is used to inverse the matrix."
   ]
  },
  {
   "cell_type": "code",
   "execution_count": 19,
   "metadata": {},
   "outputs": [
    {
     "name": "stdout",
     "output_type": "stream",
     "text": [
      "[[ 1  2  3]\n",
      " [ 5  6  7]\n",
      " [ 9 10 11]]\n",
      "\n",
      "[[ 5.62949953e+14 -1.12589991e+15  5.62949953e+14]\n",
      " [-1.12589991e+15  2.25179981e+15 -1.12589991e+15]\n",
      " [ 5.62949953e+14 -1.12589991e+15  5.62949953e+14]]\n"
     ]
    }
   ],
   "source": [
    "import numpy as np\n",
    "\n",
    "var1=np.array([[1,2,3],[5,6,7],[9,10,11]])\n",
    "\n",
    "print(var1)\n",
    "print()\n",
    "print(np.linalg.inv(var1))"
   ]
  },
  {
   "cell_type": "markdown",
   "metadata": {},
   "source": [
    "## Power\n",
    "- As like squaring in math, power function is used in the numpy.\n",
    "- linalg.matrix_power(*Matrix Name, n*) is the function that is used.\n",
    "1. Matrix Name: It is the matrix, on which the power operation is carried out.\n",
    "2. n: There may be 3 possible cases:\n",
    "   - n<0: It first inverse the matrix, then apply the power.\n",
    "   - n=0: It return the unit matrix of the same order.\n",
    "   - n>0: It directly apply the power over the matrix."
   ]
  },
  {
   "cell_type": "code",
   "execution_count": 20,
   "metadata": {},
   "outputs": [
    {
     "name": "stdout",
     "output_type": "stream",
     "text": [
      "[[ 1.9014759e+30 -3.8029518e+30  1.9014759e+30]\n",
      " [-3.8029518e+30  7.6059036e+30 -3.8029518e+30]\n",
      " [ 1.9014759e+30 -3.8029518e+30  1.9014759e+30]]\n",
      "\n",
      "[[1 0 0]\n",
      " [0 1 0]\n",
      " [0 0 1]]\n",
      "\n",
      "[[ 38  44  50]\n",
      " [ 98 116 134]\n",
      " [158 188 218]]\n"
     ]
    }
   ],
   "source": [
    "import numpy as np\n",
    "\n",
    "var1=np.array([[1,2,3],[5,6,7],[9,10,11]])\n",
    "\n",
    "print(np.linalg.matrix_power(var1,-2))                 #n<0\n",
    "print()\n",
    "print(np.linalg.matrix_power(var1,0))                 #n=0\n",
    "print()\n",
    "print(np.linalg.matrix_power(var1,2))                 #n>0\n"
   ]
  },
  {
   "cell_type": "markdown",
   "metadata": {},
   "source": [
    "## Determinate\n",
    "- To determine the determinate, we use linalg.det(*Matrix Name*) function.\n",
    "- It is calcualted on square matrix."
   ]
  },
  {
   "cell_type": "code",
   "execution_count": 7,
   "metadata": {},
   "outputs": [
    {
     "name": "stdout",
     "output_type": "stream",
     "text": [
      "-967.9999999999997\n"
     ]
    }
   ],
   "source": [
    "# Determinate of 2x2 matrix\n",
    "import numpy as np \n",
    "\n",
    "var1=np.array([[23,45],[67,89]])\n",
    "\n",
    "print(np.linalg.det(var1))"
   ]
  },
  {
   "cell_type": "code",
   "execution_count": 8,
   "metadata": {},
   "outputs": [
    {
     "name": "stdout",
     "output_type": "stream",
     "text": [
      "0.0\n"
     ]
    }
   ],
   "source": [
    "# Determinate of 3x3 matrix\n",
    "import numpy as np \n",
    "\n",
    "var1=np.array([[1,2,3],[4,5,6],[7,8,9]])\n",
    "\n",
    "print(np.linalg.det(var1))"
   ]
  }
 ],
 "metadata": {
  "kernelspec": {
   "display_name": "Python 3",
   "language": "python",
   "name": "python3"
  },
  "language_info": {
   "codemirror_mode": {
    "name": "ipython",
    "version": 3
   },
   "file_extension": ".py",
   "mimetype": "text/x-python",
   "name": "python",
   "nbconvert_exporter": "python",
   "pygments_lexer": "ipython3",
   "version": "3.11.4"
  }
 },
 "nbformat": 4,
 "nbformat_minor": 2
}
