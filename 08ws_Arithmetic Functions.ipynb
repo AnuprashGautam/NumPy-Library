{
 "cells": [
  {
   "cell_type": "markdown",
   "metadata": {},
   "source": [
    "# Arithmetic Functions\n"
   ]
  },
  {
   "cell_type": "markdown",
   "metadata": {},
   "source": [
    "### Applying on 1D array."
   ]
  },
  {
   "cell_type": "code",
   "execution_count": 1,
   "metadata": {},
   "outputs": [
    {
     "name": "stdout",
     "output_type": "stream",
     "text": [
      "Max term : 5 Position of max term : 4\n",
      "Min term : 1 Position of min term : 0\n"
     ]
    }
   ],
   "source": [
    "import numpy as np \n",
    "\n",
    "var1=np.array([1,2,3,4,5])\n",
    "\n",
    "print(\"Max term :\",np.max(var1),\"Position of max term :\",np.argmax(var1))\n",
    "print(\"Min term :\",np.min(var1),\"Position of min term :\",np.argmin(var1))"
   ]
  },
  {
   "cell_type": "markdown",
   "metadata": {},
   "source": [
    "### Applying on multi dimensional array.\n",
    "- For row , *axis*=0\n",
    "- For column , *axis*=1"
   ]
  },
  {
   "cell_type": "code",
   "execution_count": 2,
   "metadata": {},
   "outputs": [
    {
     "name": "stdout",
     "output_type": "stream",
     "text": [
      "Max term in row : [ 5 10] Position of max term : 9\n",
      "Max term in column : [ 6  7  8  9 10] Position of max term : 9\n",
      "Min term in row : [1 6] Position of min term : 0\n",
      "Min term in column : [1 2 3 4 5] Position of min term : 0\n"
     ]
    }
   ],
   "source": [
    "import numpy as np \n",
    "\n",
    "var1=np.array([[1,2,3,4,5],[6,7,8,9,10]])\n",
    "\n",
    "print(\"Max term in row :\",np.max(var1,axis=1),\"Position of max term :\",np.argmax(var1))\n",
    "print(\"Max term in column :\",np.max(var1,axis=0),\"Position of max term :\",np.argmax(var1))\n",
    "\n",
    "\n",
    "print(\"Min term in row :\",np.min(var1,axis=1),\"Position of min term :\",np.argmin(var1))\n",
    "print(\"Min term in column :\",np.min(var1,axis=0),\"Position of min term :\",np.argmin(var1))"
   ]
  },
  {
   "cell_type": "code",
   "execution_count": 6,
   "metadata": {},
   "outputs": [
    {
     "name": "stdout",
     "output_type": "stream",
     "text": [
      "Squareroot : [1. 2. 3. 4. 5.]\n",
      "Sin values : [ 0.         -0.98803162 -0.30481062  0.89399666]\n",
      "Cos value : [ 1.          0.15425145 -0.95241298 -0.44807362]\n"
     ]
    }
   ],
   "source": [
    "import numpy as np\n",
    "\n",
    "squareroot=np.array([1,4,9,16,25])\n",
    "angle=np.array([0,30,60,90])\n",
    "\n",
    "print(\"Squareroot :\",np.sqrt(squareroot))\n",
    "print(\"Sin values :\",np.sin(angle))\n",
    "print(\"Cos value :\",np.cos(angle))\n"
   ]
  },
  {
   "cell_type": "code",
   "execution_count": 7,
   "metadata": {},
   "outputs": [
    {
     "name": "stdout",
     "output_type": "stream",
     "text": [
      "Cumulative Sum: [ 1  3  6 10 15]\n"
     ]
    }
   ],
   "source": [
    "import numpy as np\n",
    "\n",
    "cum_sum=np.array([1,2,3,4,5])\n",
    "print(\"Cumulative Sum:\",np.cumsum(cum_sum))"
   ]
  }
 ],
 "metadata": {
  "kernelspec": {
   "display_name": "Python 3",
   "language": "python",
   "name": "python3"
  },
  "language_info": {
   "codemirror_mode": {
    "name": "ipython",
    "version": 3
   },
   "file_extension": ".py",
   "mimetype": "text/x-python",
   "name": "python",
   "nbconvert_exporter": "python",
   "pygments_lexer": "ipython3",
   "version": "3.11.4"
  }
 },
 "nbformat": 4,
 "nbformat_minor": 2
}
