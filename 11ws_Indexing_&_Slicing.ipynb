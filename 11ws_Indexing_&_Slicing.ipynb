{
 "cells": [
  {
   "cell_type": "markdown",
   "metadata": {},
   "source": [
    "# Indexing\n",
    "- We can access an element with any of the positive or negative indexing.\n"
   ]
  },
  {
   "cell_type": "markdown",
   "metadata": {},
   "source": [
    "### Indexing in 1 D array"
   ]
  },
  {
   "cell_type": "code",
   "execution_count": 1,
   "metadata": {},
   "outputs": [
    {
     "name": "stdout",
     "output_type": "stream",
     "text": [
      "5\n",
      "5\n"
     ]
    }
   ],
   "source": [
    "import numpy as np \n",
    "\n",
    "arr=np.array([1,2,3,4,5])\n",
    "\n",
    "print(arr[4])\n",
    "print(arr[-1])"
   ]
  },
  {
   "cell_type": "markdown",
   "metadata": {},
   "source": [
    "### Indexing in 2 D array"
   ]
  },
  {
   "cell_type": "code",
   "execution_count": 2,
   "metadata": {},
   "outputs": [
    {
     "name": "stdout",
     "output_type": "stream",
     "text": [
      "5\n",
      "5\n"
     ]
    }
   ],
   "source": [
    "import numpy as np \n",
    "\n",
    "arr=np.array([[1,2,3],[4,5,6]])\n",
    "\n",
    "print(arr[1,1])\n",
    "print(arr[-1,-2])"
   ]
  },
  {
   "cell_type": "markdown",
   "metadata": {},
   "source": [
    "### Indexing in 3 D array"
   ]
  },
  {
   "cell_type": "code",
   "execution_count": 4,
   "metadata": {},
   "outputs": [
    {
     "name": "stdout",
     "output_type": "stream",
     "text": [
      "[[[ 1  2  3]\n",
      "  [ 4  5  6]]\n",
      "\n",
      " [[ 7  8  9]\n",
      "  [10 11 12]]]\n",
      "\n",
      "8\n",
      "8\n"
     ]
    }
   ],
   "source": [
    "import numpy as np \n",
    "\n",
    "arr=np.array([[[1,2,3],[4,5,6]],[[7,8,9],[10,11,12]]])\n",
    "\n",
    "print(arr)\n",
    "print()\n",
    "print(arr[1,0,1])\n",
    "print(arr[-1,-2,-2])"
   ]
  },
  {
   "cell_type": "markdown",
   "metadata": {},
   "source": [
    "# Slicing"
   ]
  },
  {
   "cell_type": "markdown",
   "metadata": {},
   "source": [
    "### 1 D array slicing.\n",
    "- In this, Start, Stop , and Step values are provided as the arguement in the array name.\n",
    "- We can also provide the negative index numbers.\n",
    "- Default value of the Start is 0, Stop is *Length* -1, and Step is 1."
   ]
  },
  {
   "cell_type": "code",
   "execution_count": 9,
   "metadata": {},
   "outputs": [
    {
     "name": "stdout",
     "output_type": "stream",
     "text": [
      "From value 2 to value 5: [2 3 4 5]\n"
     ]
    }
   ],
   "source": [
    "import numpy as np \n",
    "\n",
    "arr=np.array([1,2,3,4,5,6,7,8,9,10])\n",
    "\n",
    "print(\"From value 2 to value 5:\",arr[1:5:1])\n"
   ]
  },
  {
   "cell_type": "code",
   "execution_count": 10,
   "metadata": {},
   "outputs": [
    {
     "name": "stdout",
     "output_type": "stream",
     "text": [
      "From value 2 to value 5: [10  9  8  7  6  5  4  3  2  1]\n"
     ]
    }
   ],
   "source": [
    "# Printing Reverse Arrray\n",
    "import numpy as np \n",
    "\n",
    "arr=np.array([1,2,3,4,5,6,7,8,9,10])\n",
    "\n",
    "print(\"Reversed Array:\",arr[::-1])"
   ]
  },
  {
   "cell_type": "code",
   "execution_count": 1,
   "metadata": {},
   "outputs": [
    {
     "name": "stdout",
     "output_type": "stream",
     "text": [
      "From value 10 to value 5: [10  9  8  7  6  5]\n"
     ]
    }
   ],
   "source": [
    "import numpy as np \n",
    "\n",
    "arr=np.array([1,2,3,4,5,6,7,8,9,10])\n",
    "\n",
    "print(\"From value 10 to value 5:\",arr[9:3:-1])"
   ]
  },
  {
   "cell_type": "markdown",
   "metadata": {},
   "source": [
    "### 2D array slicing\n",
    "- We just have to bring the control to the row, from which we want to print the values, and after that we have to provide Start, Stop, and Step values."
   ]
  },
  {
   "cell_type": "code",
   "execution_count": 2,
   "metadata": {},
   "outputs": [
    {
     "name": "stdout",
     "output_type": "stream",
     "text": [
      "[[ 1  2  3  4  5]\n",
      " [ 6  7  8  9 10]\n",
      " [11 12 13 14 15]]\n",
      "\n",
      "From value 7 to value 10: [ 7  8  9 10]\n"
     ]
    }
   ],
   "source": [
    "import numpy as np \n",
    "\n",
    "arr=np.array([[1,2,3,4,5],[6,7,8,9,10],[11,12,13,14,15]])\n",
    "\n",
    "print(arr)\n",
    "print()\n",
    "print(\"From value 7 to value 10:\",arr[1,1:])"
   ]
  },
  {
   "cell_type": "markdown",
   "metadata": {},
   "source": [
    "### 3 D array slicing\n",
    "- Similar to 2 D array, bring control to the required row and provide the values of Start, Stop, and Step."
   ]
  },
  {
   "cell_type": "code",
   "execution_count": 18,
   "metadata": {},
   "outputs": [
    {
     "name": "stdout",
     "output_type": "stream",
     "text": [
      "[[[ 1  2  3  4  5]\n",
      "  [ 6  7  8  9 10]]\n",
      "\n",
      " [[11 12 13 14 15]\n",
      "  [16 17 18 19 20]]]\n",
      "\n",
      "From value 12 to value 15 [12 13 14 15]\n"
     ]
    }
   ],
   "source": [
    "import numpy as np \n",
    "\n",
    "arr=np.array([[[1,2,3,4,5],[6,7,8,9,10]],[[11,12,13,14,15],[16,17,18,19,20]]])\n",
    "\n",
    "print(arr)\n",
    "print()\n",
    "print(\"From value 12 to value 15\",arr[1,0,1:])"
   ]
  }
 ],
 "metadata": {
  "kernelspec": {
   "display_name": "Python 3",
   "language": "python",
   "name": "python3"
  },
  "language_info": {
   "codemirror_mode": {
    "name": "ipython",
    "version": 3
   },
   "file_extension": ".py",
   "mimetype": "text/x-python",
   "name": "python",
   "nbconvert_exporter": "python",
   "pygments_lexer": "ipython3",
   "version": "3.11.4"
  }
 },
 "nbformat": 4,
 "nbformat_minor": 2
}
