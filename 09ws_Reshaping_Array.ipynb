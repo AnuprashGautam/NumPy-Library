{
 "cells": [
  {
   "cell_type": "markdown",
   "metadata": {},
   "source": [
    "# Shape in NumPy array."
   ]
  },
  {
   "cell_type": "code",
   "execution_count": 1,
   "metadata": {},
   "outputs": [
    {
     "name": "stdout",
     "output_type": "stream",
     "text": [
      "[[1 2]\n",
      " [3 4]]\n",
      "\n",
      "(2, 2)\n"
     ]
    }
   ],
   "source": [
    "import numpy as np \n",
    "\n",
    "var=np.array([[1,2],[3,4]])\n",
    "\n",
    "print(var)\n",
    "print()\n",
    "print(var.shape)"
   ]
  },
  {
   "cell_type": "markdown",
   "metadata": {},
   "source": [
    "- ndim= to print the dimension of the array.\n",
    "- ndmin= to set the dimension of the array.\n"
   ]
  },
  {
   "cell_type": "code",
   "execution_count": 4,
   "metadata": {},
   "outputs": [
    {
     "name": "stdout",
     "output_type": "stream",
     "text": [
      "[[[[[[1 2 3 4]\n",
      "     [3 4 5 6]]]]]]\n",
      "\n",
      "Dimension: 6\n",
      "\n",
      "(1, 1, 1, 1, 2, 4)\n"
     ]
    }
   ],
   "source": [
    "import numpy as np\n",
    "\n",
    "var1=np.array([[1,2,3,4],[3,4,5,6]],ndmin=6)\n",
    "\n",
    "print(var1)\n",
    "print()\n",
    "print(\"Dimension:\",var1.ndim)\n",
    "print()\n",
    "print(var1.shape)\n"
   ]
  },
  {
   "cell_type": "markdown",
   "metadata": {},
   "source": [
    "# Reshape in Numpy array.\n"
   ]
  },
  {
   "cell_type": "code",
   "execution_count": 7,
   "metadata": {},
   "outputs": [
    {
     "name": "stdout",
     "output_type": "stream",
     "text": [
      "[ 1  2  3  4  5  6  7  8  9 10 11 12]\n",
      "\n",
      "(12,)\n",
      "\n",
      "[[ 1  2]\n",
      " [ 3  4]\n",
      " [ 5  6]\n",
      " [ 7  8]\n",
      " [ 9 10]\n",
      " [11 12]]\n",
      "\n",
      "(6, 2)\n"
     ]
    }
   ],
   "source": [
    "import numpy as np\n",
    "\n",
    "var1=np.array([1,2,3,4,5,6,7,8,9,10,11,12])\n",
    "\n",
    "print(var1)\n",
    "print()\n",
    "print(var1.shape)\n",
    "print()\n",
    "\n",
    "var2=var1.reshape(6,2)\n",
    "\n",
    "print(var2)\n",
    "print()\n",
    "print(var2.shape)"
   ]
  },
  {
   "cell_type": "markdown",
   "metadata": {},
   "source": [
    "# Creating a 3 dimensional array from 1 dmensional and then converting it back to 1 dimensional.\n",
    "- -1 arguemnet is passed to reshape function to convert any array to 1 dimension."
   ]
  },
  {
   "cell_type": "code",
   "execution_count": 13,
   "metadata": {},
   "outputs": [
    {
     "name": "stdout",
     "output_type": "stream",
     "text": [
      "[ 1  2  3  4  5  6  7  8  9 10 11 12]\n",
      "Dimension: 1\n",
      "\n",
      "[[[ 1  2]\n",
      "  [ 3  4]\n",
      "  [ 5  6]]\n",
      "\n",
      " [[ 7  8]\n",
      "  [ 9 10]\n",
      "  [11 12]]]\n",
      "Dimension: 3\n",
      "\n",
      "[ 1  2  3  4  5  6  7  8  9 10 11 12]\n",
      "Dimension: 1\n"
     ]
    }
   ],
   "source": [
    "import numpy as np\n",
    "\n",
    "arr=np.array([1,2,3,4,5,6,7,8,9,10,11,12])\n",
    "\n",
    "print(arr)\n",
    "print(\"Dimension:\",arr.ndim)                              # 1 dimensional\n",
    "print()\n",
    "\n",
    "arr1=arr.reshape(2,3,2)\n",
    "print(arr1)\n",
    "print(\"Dimension:\",arr1.ndim)                             # 3 dimensional\n",
    "print()\n",
    "\n",
    "arr2=arr1.reshape(-1)\n",
    "print(arr2)\n",
    "print(\"Dimension:\",arr2.ndim)                             # 1 dimensional\n",
    "\n"
   ]
  }
 ],
 "metadata": {
  "kernelspec": {
   "display_name": "Python 3",
   "language": "python",
   "name": "python3"
  },
  "language_info": {
   "codemirror_mode": {
    "name": "ipython",
    "version": 3
   },
   "file_extension": ".py",
   "mimetype": "text/x-python",
   "name": "python",
   "nbconvert_exporter": "python",
   "pygments_lexer": "ipython3",
   "version": "3.11.4"
  }
 },
 "nbformat": 4,
 "nbformat_minor": 2
}
